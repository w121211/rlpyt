{
 "cells": [
  {
   "cell_type": "code",
   "execution_count": 22,
   "metadata": {},
   "outputs": [
    {
     "name": "stdout",
     "output_type": "stream",
     "text": [
      "[[0.33379081 0.50803937 0.37215308 1.05181864]]\n"
     ]
    }
   ],
   "source": [
    "from collections import namedtuple\n",
    "import numpy as np\n",
    "from PIL import Image, ImageDraw\n",
    "\n",
    "Self = namedtuple(\"Self\", [\"width\"])\n",
    "self = Self(64)\n",
    "xy = np.random.random((1,2))\n",
    "coord = np.concatenate((xy, xy + np.random.random((1,2))), axis=1,)\n",
    "\n",
    "coord = (coord * self.width).astype(np.int16)\n",
    "im = Image.new(\"L\", (self.width, self.width))\n",
    "draw = ImageDraw.Draw(im)\n",
    "for i, c in enumerate(coord):\n",
    "    if i == 0:\n",
    "        draw.rectangle(tuple(c), fill=255)\n",
    "    else:\n",
    "        draw.ellipse(tuple(c), fill=255)\n",
    "x = np.array(im, dtype=np.float32) / 255.0  # normalize\n",
    "x = np.expand_dims(x, axis=-1)  # (H, W, C=1)"
   ]
  },
  {
   "cell_type": "code",
   "execution_count": 23,
   "metadata": {},
   "outputs": [
    {
     "data": {
      "text/plain": [
       "64"
      ]
     },
     "execution_count": 23,
     "metadata": {},
     "output_type": "execute_result"
    }
   ],
   "source": [
    "from collections import namedtuple\n",
    "\n",
    "Self = namedtuple(\"Self\", [\"width\"])\n",
    "self = Self(64)\n",
    "\n",
    "self.width"
   ]
  },
  {
   "cell_type": "code",
   "execution_count": 36,
   "metadata": {},
   "outputs": [
    {
     "data": {
      "text/plain": [
       "array([[1],\n",
       "       [2],\n",
       "       [3]])"
      ]
     },
     "execution_count": 36,
     "metadata": {},
     "output_type": "execute_result"
    }
   ],
   "source": [
    "np.array([[1, 2, 3]]).reshape(3,1)"
   ]
  }
 ],
 "metadata": {
  "kernelspec": {
   "display_name": "Python 3",
   "language": "python",
   "name": "python3"
  },
  "language_info": {
   "codemirror_mode": {
    "name": "ipython",
    "version": 3
   },
   "file_extension": ".py",
   "mimetype": "text/x-python",
   "name": "python",
   "nbconvert_exporter": "python",
   "pygments_lexer": "ipython3",
   "version": "3.6.9"
  }
 },
 "nbformat": 4,
 "nbformat_minor": 2
}
