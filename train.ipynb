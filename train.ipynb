{
 "cells": [
  {
   "cell_type": "code",
   "execution_count": 4,
   "metadata": {},
   "outputs": [
    {
     "name": "stdout",
     "output_type": "stream",
     "text": [
      "/workspace/rlpyt\n",
      "/bin/sh: 1: source: not found\n"
     ]
    }
   ],
   "source": [
    "%cd /workspace/rlpyt\n",
    "# !conda env create -f macos_cpu.yml\n",
    "# !source activate rlpyt\n",
    "# !pip install -e ."
   ]
  },
  {
   "cell_type": "code",
   "execution_count": 1,
   "metadata": {},
   "outputs": [
    {
     "name": "stdout",
     "output_type": "stream",
     "text": [
      "/workspace/rlpyt/examples\n",
      "Traceback (most recent call last):\n",
      "  File \"example_1.py\", line 16, in <module>\n",
      "    from rlpyt.samplers.serial.sampler import SerialSampler\n",
      "ModuleNotFoundError: No module named 'rlpyt'\n"
     ]
    }
   ],
   "source": [
    "%cd /workspace/rlpyt/examples\n",
    "!python example_1.py"
   ]
  }
 ],
 "metadata": {
  "kernelspec": {
   "display_name": "Python 3",
   "language": "python",
   "name": "python3"
  },
  "language_info": {
   "codemirror_mode": {
    "name": "ipython",
    "version": 3
   },
   "file_extension": ".py",
   "mimetype": "text/x-python",
   "name": "python",
   "nbconvert_exporter": "python",
   "pygments_lexer": "ipython3",
   "version": "3.6.9"
  }
 },
 "nbformat": 4,
 "nbformat_minor": 2
}
